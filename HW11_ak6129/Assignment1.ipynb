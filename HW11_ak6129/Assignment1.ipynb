{
 "cells": [
  {
   "cell_type": "code",
   "execution_count": null,
   "metadata": {
    "collapsed": true
   },
   "outputs": [],
   "source": [
    "import numpy as np\n",
    "import matplotlib.pylab as plt\n",
    "from geopandas import GeoDataFrame\n",
    "import geopandas as gp\n",
    "from fiona.crs import from_epsg\n",
    "import os\n",
    "%matplotlib inline"
   ]
  },
  {
   "cell_type": "code",
   "execution_count": null,
   "metadata": {
    "collapsed": false
   },
   "outputs": [],
   "source": [
    "#import zip file\n",
    "os.system(\"curl -O http://www1.nyc.gov/assets/planning/download/zip/data-maps/open-data/nycb2010_16d.zip\")\n",
    "os.system(\"mv nycb2010_16d.zip \" + os.getenv(\"PUIDATA\"))"
   ]
  },
  {
   "cell_type": "code",
   "execution_count": null,
   "metadata": {
    "collapsed": false
   },
   "outputs": [],
   "source": [
    "#unzip file and move to PUIdata\n",
    "os.system('unzip ' + os.getenv(\"PUIDATA\") + '/' + 'nycb2010_16d.zip')\n",
    "os.system(\"mv nycb2010_16d \" + os.getenv(\"PUIDATA\"))"
   ]
  },
  {
   "cell_type": "code",
   "execution_count": null,
   "metadata": {
    "collapsed": false
   },
   "outputs": [],
   "source": [
    "#read shapefile\n",
    "shape_path=(os.getenv(\"PUIDATA\") + '/' + 'nycb2010_16d' + '/' + 'nycb2010.shp')\n",
    "ct_shape = GeoDataFrame.from_file(shape_path)\n",
    "ct_shape.crs = from_epsg(2263)"
   ]
  },
  {
   "cell_type": "code",
   "execution_count": null,
   "metadata": {
    "collapsed": false
   },
   "outputs": [],
   "source": [
    "ct_shape.head()"
   ]
  },
  {
   "cell_type": "code",
   "execution_count": null,
   "metadata": {
    "collapsed": true
   },
   "outputs": [],
   "source": [
    "# Extract Brooklyn shape polygons and convert the coordinates to lat/lon\n",
    "ct_latlon = ct_shape.to_crs(epsg=4326)\n",
    "ct_latlon = ct_latlon[ct_latlon.BoroName == 'Brooklyn']"
   ]
  },
  {
   "cell_type": "code",
   "execution_count": null,
   "metadata": {
    "collapsed": false
   },
   "outputs": [],
   "source": [
    "ct_latlon.head()"
   ]
  },
  {
   "cell_type": "code",
   "execution_count": null,
   "metadata": {
    "collapsed": false
   },
   "outputs": [],
   "source": [
    "# CUSP coordinates from http://www.gps-coordinates.net/\n",
    "#Create a Point shapely geometry with the coordinates of CUSP\n",
    "cusp = shapely.geometry.Point(-73.986405,40.693216)"
   ]
  },
  {
   "cell_type": "code",
   "execution_count": null,
   "metadata": {
    "collapsed": false
   },
   "outputs": [],
   "source": [
    "#Loop over the Brookly polygons (nearly 10000) and assess find in which geometry the polygon is contained\n",
    "\n",
    "cusp_index = 0\n",
    "for i, ct in zip(ct_latlon.index, ct_latlon.geometry):\n",
    "    if shapely.geometry.asShape(ct).contains(cusp):\n",
    "        print 'CUSP',ct\n",
    "        cusp_index = i"
   ]
  },
  {
   "cell_type": "code",
   "execution_count": null,
   "metadata": {
    "collapsed": false
   },
   "outputs": [],
   "source": [
    "#save the index of the polygon that contains the CUSP\n",
    "cusp_index"
   ]
  },
  {
   "cell_type": "code",
   "execution_count": null,
   "metadata": {
    "collapsed": false
   },
   "outputs": [],
   "source": [
    "# Plot one every 10 polygons of brooklyn \n",
    "selected_index = np.arange(ct_latlon.index.min(),ct_latlon.index.max(),10)\n",
    "\n",
    "f, ax = plt.subplots(figsize=(10, 10))\n",
    "ax.get_xaxis().set_visible(False)\n",
    "ax.get_yaxis().set_visible(False)\n",
    "\n",
    "# only plot non-NA rows\n",
    "ct_latlon.ix[selected_index].dropna().plot(figsize=(15,10),\n",
    "                                          cmap='Greys', ax=ax)\n",
    "\n",
    "# plot CUSP shapefile with red color\n",
    "GeoDataFrame(ct_latlon.ix[cusp_index]).T.plot(ax=ax, color='r')\n",
    "\n",
    "# plot CUSP point\n",
    "plt.scatter(-73.986405,40.693216, s=100, c='b', alpha=0.3)\n",
    "plt.xlim(-74.05,-73.85)\n"
   ]
  }
 ],
 "metadata": {
  "kernelspec": {
   "display_name": "PUI2016_Python2",
   "language": "python",
   "name": "pui2016_python2"
  },
  "language_info": {
   "codemirror_mode": {
    "name": "ipython",
    "version": 2
   },
   "file_extension": ".py",
   "mimetype": "text/x-python",
   "name": "python",
   "nbconvert_exporter": "python",
   "pygments_lexer": "ipython2",
   "version": "2.7.12"
  }
 },
 "nbformat": 4,
 "nbformat_minor": 0
}
