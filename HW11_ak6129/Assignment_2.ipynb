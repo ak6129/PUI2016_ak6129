{
 "cells": [
  {
   "cell_type": "code",
   "execution_count": null,
   "metadata": {
    "collapsed": false
   },
   "outputs": [],
   "source": [
    "import pandas as pd\n",
    "import numpy as np\n",
    "import urllib\n",
    "import os\n",
    "from zipfile import ZipFile\n",
    "import json\n",
    "from scipy.spatial.distance import cdist, pdist\n",
    "from sklearn.cluster import KMeans\n",
    "import matplotlib.pyplot as plt\n",
    "from descartes import PolygonPatch\n",
    "from matplotlib import cm\n",
    "from scipy.cluster.hierarchy import dendrogram, linkage, fcluster\n",
    "%pylab inline"
   ]
  },
  {
   "cell_type": "markdown",
   "metadata": {},
   "source": [
    "### 1. Data preparation"
   ]
  },
  {
   "cell_type": "code",
   "execution_count": null,
   "metadata": {
    "collapsed": false
   },
   "outputs": [],
   "source": [
    "!for ((y=93; y<=99; y+=1)); do wget http://www2.census.gov/Econ2001_And_Earlier/CBP_CSV/zbp$y\\totals.zip; done\n",
    "\n",
    "!for ((y=0; y<=1; y+=1)); do wget http://www2.census.gov/Econ2001_And_Earlier/CBP_CSV/zbp0$y\\totals.zip; done\n",
    "\n",
    "!for ((y=0; y<=9; y+=1)); do wget http://www2.census.gov/econ200$y\\/CBP_CSV/zbp0$y\\totals.zip; done\n",
    "\n",
    "!for ((y=10; y<=15; y+=1)); do wget http://www2.census.gov/econ20$y\\/CBP_CSV/zbp$y\\totals.zip; done"
   ]
  },
  {
   "cell_type": "code",
   "execution_count": null,
   "metadata": {
    "collapsed": false
   },
   "outputs": [],
   "source": [
    "#move zip files to PUIdata\n",
    "os.system(\"mv zbp94totals.zip \" + os.getenv(\"PUIDATA\"))\n",
    "os.system(\"mv zbp95totals.zip \" + os.getenv(\"PUIDATA\"))\n",
    "os.system(\"mv zbp96totals.zip \" + os.getenv(\"PUIDATA\"))\n",
    "os.system(\"mv zbp97totals.zip \" + os.getenv(\"PUIDATA\"))\n",
    "os.system(\"mv zbp98totals.zip \" + os.getenv(\"PUIDATA\"))\n",
    "os.system(\"mv zbp99totals.zip \" + os.getenv(\"PUIDATA\"))\n",
    "os.system(\"mv zbp00totals.zip \" + os.getenv(\"PUIDATA\"))\n",
    "os.system(\"mv zbp01totals.zip \" + os.getenv(\"PUIDATA\"))\n",
    "os.system(\"mv zbp02totals.zip \" + os.getenv(\"PUIDATA\"))\n",
    "os.system(\"mv zbp03totals.zip \" + os.getenv(\"PUIDATA\"))\n",
    "os.system(\"mv zbp04totals.zip \" + os.getenv(\"PUIDATA\"))\n",
    "os.system(\"mv zbp05totals.zip \" + os.getenv(\"PUIDATA\"))\n",
    "os.system(\"mv zbp06totals.zip \" + os.getenv(\"PUIDATA\"))\n",
    "os.system(\"mv zbp07totals.zip \" + os.getenv(\"PUIDATA\"))\n",
    "os.system(\"mv zbp08totals.zip \" + os.getenv(\"PUIDATA\"))\n",
    "os.system(\"mv zbp09totals.zip \" + os.getenv(\"PUIDATA\"))\n",
    "os.system(\"mv zbp10totals.zip \" + os.getenv(\"PUIDATA\"))\n",
    "os.system(\"mv zbp11totals.zip \" + os.getenv(\"PUIDATA\"))\n",
    "os.system(\"mv zbp12totals.zip \" + os.getenv(\"PUIDATA\"))\n",
    "os.system(\"mv zbp13totals.zip \" + os.getenv(\"PUIDATA\"))\n",
    "os.system(\"mv zbp14totals.zip \" + os.getenv(\"PUIDATA\"))"
   ]
  },
  {
   "cell_type": "markdown",
   "metadata": {},
   "source": [
    "### Business data"
   ]
  },
  {
   "cell_type": "code",
   "execution_count": null,
   "metadata": {
    "collapsed": false
   },
   "outputs": [],
   "source": [
    "#new data frame ZIP, EST, YEAR\n",
    "years = range(1995,2015)\n",
    "df = pd.DataFrame()\n",
    "for year in years:\n",
    "    abbr_year = str(year)[2:4]\n",
    "    fname = 'zbp' + abbr_year + 'totals.zip'\n",
    "    fullname = os.getenv(\"PUIDATA\") + '/' + fname\n",
    "    zf = ZipFile(fullname)\n",
    "    # open and read file\n",
    "    df_that_year = pd.read_csv(zf.open(fname.replace('.zip','.txt')))\n",
    "    # uppercase, to make the columns in a uniform case\n",
    "    df_that_year.columns = [item.upper() for item in df_that_year.columns] \n",
    "    df_that_year['YEAR'] = year\n",
    "    # subset necessary columns\n",
    "    df_sliced = df_that_year.loc[:,['ZIP','EST','YEAR']]\n",
    "    # concat (merge) this year's dataframe to main dataframe\n",
    "    df = pd.concat([df, df_sliced], axis=0)"
   ]
  },
  {
   "cell_type": "code",
   "execution_count": null,
   "metadata": {
    "collapsed": false
   },
   "outputs": [],
   "source": [
    "df.head()"
   ]
  },
  {
   "cell_type": "markdown",
   "metadata": {},
   "source": [
    "### NYC zip codes shape file "
   ]
  },
  {
   "cell_type": "code",
   "execution_count": null,
   "metadata": {
    "collapsed": true
   },
   "outputs": [],
   "source": [
    "with open(os.getenv(\"PUIDATA\") + '/nyc-zip-code-tabulation-areas-polygons.geojson') as f:\n",
    "    nyc_geojson = pd.DataFrame(json.load(f))"
   ]
  },
  {
   "cell_type": "code",
   "execution_count": null,
   "metadata": {
    "collapsed": true
   },
   "outputs": [],
   "source": [
    "zipcodes = []\n",
    "polygons = []\n",
    "for i in range(len(nyc_geojson)):\n",
    "    zipcode = nyc_geojson.ix[i]['features']['properties']['postalCode']\n",
    "    poly = nyc_geojson.ix[i]['features']['geometry']\n",
    "    zipcodes.append(int(zipcode))\n",
    "    polygons.append(poly)\n",
    "nyc_shape = pd.DataFrame({'geometry': polygons, 'ZIP':zipcodes})"
   ]
  },
  {
   "cell_type": "code",
   "execution_count": null,
   "metadata": {
    "collapsed": false
   },
   "outputs": [],
   "source": [
    "nyc_shape.head()"
   ]
  },
  {
   "cell_type": "markdown",
   "metadata": {},
   "source": [
    "### Merging 2 datasets to prepare the data for clustering. "
   ]
  },
  {
   "cell_type": "code",
   "execution_count": null,
   "metadata": {
    "collapsed": true
   },
   "outputs": [],
   "source": [
    "df.index = df.ZIP"
   ]
  },
  {
   "cell_type": "code",
   "execution_count": null,
   "metadata": {
    "collapsed": true
   },
   "outputs": [],
   "source": [
    "df_NY = df.ix[zipcodes].dropna(how='any')\n",
    "\n",
    "# convert ZIP and YEAR as int\n",
    "df_NY['ZIP'] = df_NY['ZIP'].astype(int)\n",
    "df_NY['YEAR'] = df_NY['YEAR'].astype(int)"
   ]
  },
  {
   "cell_type": "code",
   "execution_count": null,
   "metadata": {
    "collapsed": false
   },
   "outputs": [],
   "source": [
    "df_NY_pivot = df_NY.pivot_table(index='ZIP', columns='YEAR', values='EST')\n",
    "df_NY_pivot.head()"
   ]
  },
  {
   "cell_type": "code",
   "execution_count": null,
   "metadata": {
    "collapsed": false
   },
   "outputs": [],
   "source": [
    "df_NY_pivot.shape"
   ]
  },
  {
   "cell_type": "code",
   "execution_count": null,
   "metadata": {
    "collapsed": true
   },
   "outputs": [],
   "source": [
    "df_NY_standardized = df_NY_pivot.dropna(how='any').copy()\n",
    "for row in df_NY_standardized.index:\n",
    "    row_values = df_NY_pivot.ix[row]\n",
    "    row_mean = row_values.mean()\n",
    "    row_std = row_values.std()\n",
    "    df_NY_standardized.ix[row] = (row_values - row_mean)/row_std"
   ]
  },
  {
   "cell_type": "markdown",
   "metadata": {},
   "source": [
    "### Standardize values "
   ]
  },
  {
   "cell_type": "code",
   "execution_count": null,
   "metadata": {
    "collapsed": false
   },
   "outputs": [],
   "source": [
    "df_NY_standardized.head()"
   ]
  },
  {
   "cell_type": "markdown",
   "metadata": {},
   "source": [
    "### 2. Cluster the NUMBER OF ESTABLISHMENTS time series with K-means "
   ]
  },
  {
   "cell_type": "code",
   "execution_count": null,
   "metadata": {
    "collapsed": true
   },
   "outputs": [],
   "source": [
    "def elbow(data, K):\n",
    "    '''calculation of average within-cluster\n",
    "    sum of squares, use elbow method to determine number of clusters'''\n",
    "    \n",
    "    KM = [KMeans(n_clusters=k).fit(data) for k in K]\n",
    "    centroids = [k.cluster_centers_ for k in KM]\n",
    "    \n",
    "    D_k = [cdist(data, cent, 'euclidean') for cent in centroids]\n",
    "    globals()['dist'] = [np.min(D, axis=1) for D in D_k]\n",
    "    avgWithinSS = [sum(d)/data.shape[0] for d in dist]\n",
    "    \n",
    "    # elbow curve\n",
    "    fig = plt.figure()\n",
    "    ax = fig.add_subplot(111)\n",
    "    ax.plot(K, avgWithinSS, 'b*-')\n",
    "    plt.grid(True)\n",
    "    plt.xlabel('Number of clusters')\n",
    "    plt.ylabel('Average within-cluster sum of squares')\n",
    "    plt.title('Elbow for KMeans clustering')\n",
    "    plt.show()"
   ]
  },
  {
   "cell_type": "code",
   "execution_count": null,
   "metadata": {
    "collapsed": false
   },
   "outputs": [],
   "source": [
    "elbow(df_NY_standardized, range(1,30))"
   ]
  },
  {
   "cell_type": "markdown",
   "metadata": {},
   "source": [
    "#### Plot 1: The elbow method for KMeans clustering\n",
    "\n",
    "The elbow method shows 2 clusters. Choosed 5 as number of cluster as per instructions.    "
   ]
  },
  {
   "cell_type": "code",
   "execution_count": null,
   "metadata": {
    "collapsed": true
   },
   "outputs": [],
   "source": [
    "# implement k-means\n",
    "km = KMeans(5).fit(df_NY_standardized)"
   ]
  },
  {
   "cell_type": "code",
   "execution_count": null,
   "metadata": {
    "collapsed": true
   },
   "outputs": [],
   "source": [
    "# store the result in 'kmeans' column\n",
    "df_NY_standardized['kmeans'] = km.labels_"
   ]
  },
  {
   "cell_type": "markdown",
   "metadata": {},
   "source": [
    "### 3. Pot the cluster centers "
   ]
  },
  {
   "cell_type": "code",
   "execution_count": null,
   "metadata": {
    "collapsed": false
   },
   "outputs": [],
   "source": [
    "fig = plt.figure(figsize=(12,15))\n",
    "ax1 = fig.add_subplot(3,2,1)\n",
    "c = ['r','g','b','k','m']\n",
    "\n",
    "# first subplot: all cluster centers\n",
    "for i in range(5):\n",
    "    ax1.scatter(years,km.cluster_centers_[i], c=c[i], \n",
    "                lw=0, alpha=0.5, s=70, label='cluster ' + str(i))\n",
    "ax1.legend(loc='lower right', fontsize=8)\n",
    "ax1.set_title('Cluster Centers', fontsize=15)\n",
    "ax1.set_xlabel('year')\n",
    "ax1.set_ylabel('cluster center values')\n",
    "ax1.set_ylim(-3,4)\n",
    "\n",
    "# other subplots: plot the timeseries and its cluster centers\n",
    "for subplot_number in [2, 3, 4, 5, 6]:\n",
    "    ax = fig.add_subplot(3, 2, subplot_number, sharex=ax1, sharey=ax1)\n",
    "    features = df_NY_standardized.iloc[:, 0:20]\n",
    "    cluster = subplot_number - 2\n",
    "    features[df_NY_standardized['kmeans'] == cluster].T\\\n",
    "        .plot(legend=False, alpha=0.5, cmap='Greys', ax=ax, zorder=1)\n",
    "    ax.scatter(years, km.cluster_centers_[cluster], c=c[cluster], zorder=2,\n",
    "               lw=0, s=70)\n",
    "    ax.set_title('cluster '+ str(cluster))\n",
    "    ax.grid()\n",
    "plt.tight_layout()"
   ]
  },
  {
   "cell_type": "markdown",
   "metadata": {},
   "source": [
    "#### Plot 2: All cluster centers with their respective time series\n",
    "\n",
    "All clusters have different trends."
   ]
  },
  {
   "cell_type": "markdown",
   "metadata": {},
   "source": [
    "### 4. Use another clustering algorithm "
   ]
  },
  {
   "cell_type": "code",
   "execution_count": null,
   "metadata": {
    "collapsed": true
   },
   "outputs": [],
   "source": [
    "# select all features' data, store in a variable X\n",
    "X = df_NY_standardized.iloc[:, 0:20]"
   ]
  },
  {
   "cell_type": "code",
   "execution_count": null,
   "metadata": {
    "collapsed": true
   },
   "outputs": [],
   "source": [
    "# linkage all observations\n",
    "links = linkage(X, 'ward')"
   ]
  },
  {
   "cell_type": "code",
   "execution_count": null,
   "metadata": {
    "collapsed": false
   },
   "outputs": [],
   "source": [
    "# plot the dendrogram\n",
    "plt.figure(figsize=(8, 32))\n",
    "plt.title('Dendrogram', fontsize=20)\n",
    "plt.xlabel('distance', fontsize=15)\n",
    "dendrogram(links, leaf_font_size=10, orientation='left', labels=X.index)\n",
    "plt.show()"
   ]
  },
  {
   "cell_type": "markdown",
   "metadata": {},
   "source": [
    "#### Plot 3: Hierarchical Clustering Dendrogram\n",
    "\n",
    "There are 2 main clusters based on the linkage (green and red)"
   ]
  },
  {
   "cell_type": "code",
   "execution_count": null,
   "metadata": {
    "collapsed": true
   },
   "outputs": [],
   "source": [
    "# pick only 5 clusters from hierarchical clustering\n",
    "# store the labels into 'hierarchical' column in 'df_NY_standardized'\n",
    "\n",
    "k = 5\n",
    "df_NY_standardized['hierarchical'] = fcluster(links, k, criterion='maxclust')"
   ]
  },
  {
   "cell_type": "markdown",
   "metadata": {},
   "source": [
    "### 5. Overlay data on a NYC map"
   ]
  },
  {
   "cell_type": "markdown",
   "metadata": {},
   "source": [
    "Merging nyc_shape with k-means and hierarchical labels "
   ]
  },
  {
   "cell_type": "code",
   "execution_count": null,
   "metadata": {
    "collapsed": true
   },
   "outputs": [],
   "source": [
    "# kmeans\n",
    "df_labels = pd.DataFrame(df_NY_standardized['kmeans']).reset_index()\n",
    "nyc_shape = pd.merge(nyc_shape,df_labels, how='left', on='ZIP')\n",
    "nyc_shape.fillna(-1, inplace=True) # because first cluster start from 0"
   ]
  },
  {
   "cell_type": "code",
   "execution_count": null,
   "metadata": {
    "collapsed": true
   },
   "outputs": [],
   "source": [
    "# hierarchical\n",
    "df_labels = pd.DataFrame(df_NY_standardized['hierarchical']).reset_index()\n",
    "nyc_shape = pd.merge(nyc_shape,df_labels, how='left', on='ZIP')\n",
    "nyc_shape.fillna(0, inplace=True) # because first cluster start from 1"
   ]
  },
  {
   "cell_type": "code",
   "execution_count": null,
   "metadata": {
    "collapsed": false
   },
   "outputs": [],
   "source": [
    "nyc_shape.tail()"
   ]
  },
  {
   "cell_type": "code",
   "execution_count": null,
   "metadata": {
    "collapsed": true
   },
   "outputs": [],
   "source": [
    "def plotNY(column_cluster, n_cluster, desired_axis):\n",
    "    ''' This function is to plot polygons of NYC:\n",
    "    column_cluster: choose between kmeans or hierarchical,\n",
    "    n_cluster: number of cluster,\n",
    "    desired_axis: selected ax'''\n",
    "    \n",
    "    ax = desired_axis\n",
    "    colors = np.linspace(0, 1, n_cluster+1)\n",
    "    cmap = cm.get_cmap('Blues')\n",
    "    for i in range(len(nyc_shape)):\n",
    "        poly = nyc_shape['geometry'][i]\n",
    "        if (column_cluster == 'hierarchical') | (column_cluster == 'hierarchical2'):\n",
    "            color_index = int(nyc_shape[column_cluster][i])\n",
    "        else:\n",
    "            color_index = int(nyc_shape[column_cluster][i]+1)\n",
    "        color = cmap(colors[color_index])\n",
    "        ax.add_patch(PolygonPatch(poly, fc=color, ec='k', zorder=2))\n",
    "    ax.axis('scaled')\n",
    "    ax.get_xaxis().set_visible(False)\n",
    "    ax.get_yaxis().set_visible(False)\n",
    "    ax.set_title(column_cluster + ' Clustering', fontsize=20)"
   ]
  },
  {
   "cell_type": "code",
   "execution_count": null,
   "metadata": {
    "collapsed": false
   },
   "outputs": [],
   "source": [
    "# plot kmeans cluster on NYC Map\n",
    "fig = plt.figure(figsize=(12,12))\n",
    "ax = fig.add_subplot(111)\n",
    "plotNY('kmeans', 5, ax)"
   ]
  },
  {
   "cell_type": "markdown",
   "metadata": {},
   "source": [
    "#### Plot 4. Kmeans on the NYC map "
   ]
  },
  {
   "cell_type": "code",
   "execution_count": null,
   "metadata": {
    "collapsed": false
   },
   "outputs": [],
   "source": [
    "# plot hierarchical cluster on NYC Map\n",
    "fig = plt.figure(figsize=(12,12))\n",
    "ax = fig.add_subplot(111)\n",
    "plotNY('hierarchical', 5, ax)"
   ]
  },
  {
   "cell_type": "markdown",
   "metadata": {},
   "source": [
    "#### Plot 5. Hierarchical cluster on NYC Map"
   ]
  },
  {
   "cell_type": "markdown",
   "metadata": {},
   "source": [
    "### 6. Compare the results of the 2 algorithms"
   ]
  },
  {
   "cell_type": "code",
   "execution_count": null,
   "metadata": {
    "collapsed": false
   },
   "outputs": [],
   "source": [
    "#plot 2 maps kmeans and hierarchical\n",
    "fig = plt.figure(figsize=(12,10))\n",
    "ax1 = fig.add_subplot(221)\n",
    "plotNY('kmeans', 5, ax1)\n",
    "ax2 = fig.add_subplot(222)\n",
    "plotNY('hierarchical', 5, ax2)\n",
    "plt.tight_layout(w_pad=0.2, h_pad=0.2, pad=5)\n",
    "plt.suptitle('Number of Cluster: 5', fontsize=20)"
   ]
  },
  {
   "cell_type": "code",
   "execution_count": null,
   "metadata": {
    "collapsed": true
   },
   "outputs": [],
   "source": [
    "km2 = KMeans(2).fit(df_NY_standardized.iloc[:, 0:20])\n",
    "df_NY_standardized['kmeans2'] = km2.labels_\n",
    "df_NY_standardized['hierarchical2'] = fcluster(links, 2, criterion='maxclust')"
   ]
  },
  {
   "cell_type": "code",
   "execution_count": null,
   "metadata": {
    "collapsed": true
   },
   "outputs": [],
   "source": [
    "# kmeans\n",
    "df_labels = pd.DataFrame(df_NY_standardized['kmeans2']).reset_index()\n",
    "nyc_shape = pd.merge(nyc_shape,df_labels, how='left', on='ZIP')\n",
    "nyc_shape.fillna(-1, inplace=True) # because first cluster start from 0\n",
    "\n",
    "# hierarchical\n",
    "df_labels = pd.DataFrame(df_NY_standardized['hierarchical2']).reset_index()\n",
    "nyc_shape = pd.merge(nyc_shape,df_labels, how='left', on='ZIP')\n",
    "nyc_shape.fillna(0, inplace=True) # because first cluster start from 1"
   ]
  },
  {
   "cell_type": "code",
   "execution_count": null,
   "metadata": {
    "collapsed": false
   },
   "outputs": [],
   "source": [
    "nyc_shape.tail()"
   ]
  },
  {
   "cell_type": "code",
   "execution_count": null,
   "metadata": {
    "collapsed": false
   },
   "outputs": [],
   "source": [
    "fig = plt.figure(figsize=(12,10))\n",
    "ax1 = fig.add_subplot(221)\n",
    "plotNY('kmeans2', 2, ax1)\n",
    "ax2 = fig.add_subplot(222)\n",
    "plotNY('hierarchical2', 2, ax2)\n",
    "plt.tight_layout(w_pad=0.2, h_pad=0.2, pad=5)\n",
    "plt.suptitle('Number of Cluster: 2', fontsize=20)"
   ]
  },
  {
   "cell_type": "code",
   "execution_count": null,
   "metadata": {
    "collapsed": false
   },
   "outputs": [],
   "source": [
    "fig = plt.figure(figsize=(15,5))\n",
    "ax1 = fig.add_subplot(1,3,1)\n",
    "c = ['r','g']\n",
    "\n",
    "# first subplot: all cluster centers\n",
    "for i in range(2):\n",
    "    ax1.scatter(years,km2.cluster_centers_[i], c=c[i], \n",
    "                lw=0, alpha=0.5, s=70, label='cluster ' + str(i))\n",
    "ax1.legend(loc='lower right', fontsize=8)\n",
    "ax1.set_title('Cluster Centers', fontsize=15)\n",
    "ax1.set_xlabel('year')\n",
    "ax1.set_ylabel('cluster center values')\n",
    "ax1.set_ylim(-3,4)\n",
    "\n",
    "for subplot_number in [2, 3]:\n",
    "    ax = fig.add_subplot(1, 3, subplot_number, sharex=ax1, sharey=ax1)\n",
    "    features = df_NY_standardized.iloc[:, 0:20]\n",
    "    cluster = subplot_number - 2\n",
    "    features[df_NY_standardized['kmeans2'] == cluster].T\\\n",
    "        .plot(legend=False, alpha=0.5, cmap='Greys', ax=ax, zorder=1)\n",
    "    ax.scatter(years, km2.cluster_centers_[cluster], c=c[cluster], zorder=2,\n",
    "               lw=0, s=70)\n",
    "    ax.set_title('cluster '+ str(cluster))\n",
    "    ax.grid()\n",
    "plt.tight_layout()"
   ]
  },
  {
   "cell_type": "code",
   "execution_count": null,
   "metadata": {
    "collapsed": false
   },
   "outputs": [],
   "source": [
    "fig = plt.figure(figsize=(15,5))\n",
    "\n",
    "for subplot_number in [1, 2]:\n",
    "    ax = fig.add_subplot(1, 3, subplot_number, sharex=ax1, sharey=ax1)\n",
    "    features = df_NY_standardized.iloc[:, 0:20]\n",
    "    cluster = subplot_number\n",
    "    features[df_NY_standardized['hierarchical2'] == cluster].T\\\n",
    "        .plot(legend=False, alpha=0.5, cmap='Greys', ax=ax, zorder=1)\n",
    "    ax.set_title('cluster '+ str(cluster))\n",
    "    ax.grid()\n",
    "plt.tight_layout()"
   ]
  },
  {
   "cell_type": "code",
   "execution_count": null,
   "metadata": {
    "collapsed": false
   },
   "outputs": [],
   "source": [
    "diff = df_NY_standardized[(df_NY_standardized['hierarchical2'] \n",
    "                           - df_NY_standardized['kmeans2']) != 1]\n",
    "diff.iloc[:, 0:20].T.plot(legend=False, alpha=0.5, c='k',\n",
    "                         title='All timeseries categorized differently by KMeans and Hierarchical',\n",
    "                         figsize=(8,6))"
   ]
  },
  {
   "cell_type": "code",
   "execution_count": null,
   "metadata": {
    "collapsed": true
   },
   "outputs": [],
   "source": [
    "#@Review: Plots not rendered. why???\n",
    "# Missing comparision and interprettion of the clustering algorithms.\n"
   ]
  }
 ],
 "metadata": {
  "kernelspec": {
   "display_name": "Python 2",
   "language": "python",
   "name": "python2"
  },
  "language_info": {
   "codemirror_mode": {
    "name": "ipython",
    "version": 2
   },
   "file_extension": ".py",
   "mimetype": "text/x-python",
   "name": "python",
   "nbconvert_exporter": "python",
   "pygments_lexer": "ipython2",
   "version": "2.7.12"
  }
 },
 "nbformat": 4,
 "nbformat_minor": 0
}
